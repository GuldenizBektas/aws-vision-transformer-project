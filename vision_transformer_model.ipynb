{
 "cells": [
  {
   "cell_type": "code",
   "execution_count": 1,
   "id": "3fd8d0e2",
   "metadata": {},
   "outputs": [],
   "source": [
    "import pandas as pd\n",
    "import sagemaker\n",
    "import boto3\n",
    "import numpy as np"
   ]
  },
  {
   "cell_type": "code",
   "execution_count": null,
   "id": "a3961f65",
   "metadata": {
    "scrolled": true
   },
   "outputs": [],
   "source": [
    "import sagemaker\n",
    "import boto3\n",
    "\n",
    "sess = sagemaker.Session()\n",
    "# sagemaker session bucket -> used for uploading data, models and logs\n",
    "# sagemaker will automatically create this bucket if it not exists\n",
    "sagemaker_session_bucket = 'bucket_name'\n",
    "\n",
    "try:\n",
    "    role = sagemaker.get_execution_role()\n",
    "except ValueError:\n",
    "    iam = boto3.client('iam')\n",
    "    role = iam.get_role(RoleName='role_name')['Role']['Arn']\n",
    "\n",
    "print(f\"sagemaker role arn: {role}\")\n",
    "print(f\"sagemaker session region: {sess.boto_region_name}\")"
   ]
  },
  {
   "cell_type": "markdown",
   "id": "bf30ae3d",
   "metadata": {},
   "source": [
    "## prepare data\n",
    "\n",
    "`!mkdir -p train2500/real train2500/fake`\n",
    "\n",
    "`!mkdir -p test1000/real test1000/fake`\n",
    "\n",
    "`!ls train/REAL | sort -R | tail -1250 | while read file; do cp train/real/$file train2500/real; done`\n",
    "\n",
    "`!ls train/FAKE | sort -R | tail -1250 | while read file; do cp train/fake/$file train2500/fake; done`\n",
    "\n",
    "`!ls test/REAL | sort -R | tail -500 | while read file; do cp test/real/$file test1000/real; done`\n",
    "\n",
    "`!ls test/FAKE | sort -R | tail -500 | while read file; do cp test/fake/$file test1000/fake; done`\n"
   ]
  },
  {
   "cell_type": "markdown",
   "id": "578106ef",
   "metadata": {},
   "source": [
    "### image processing"
   ]
  },
  {
   "cell_type": "code",
   "execution_count": 4,
   "id": "6ca7de89",
   "metadata": {},
   "outputs": [],
   "source": [
    "import tensorflow as tf\n",
    "from tensorflow import keras\n",
    "from tensorflow.keras.preprocessing.image import ImageDataGenerator\n",
    "from tensorflow.keras.preprocessing import image_dataset_from_directory"
   ]
  },
  {
   "cell_type": "code",
   "execution_count": 6,
   "id": "8ae93a62",
   "metadata": {},
   "outputs": [],
   "source": [
    "keras.utils.set_random_seed(42)"
   ]
  },
  {
   "cell_type": "code",
   "execution_count": 7,
   "id": "8561953e",
   "metadata": {},
   "outputs": [
    {
     "name": "stdout",
     "output_type": "stream",
     "text": [
      "Found 2500 files belonging to 2 classes.\n",
      "Found 1000 files belonging to 2 classes.\n"
     ]
    }
   ],
   "source": [
    "train_path = \"train2500/\"\n",
    "test_path = \"test1000/\"\n",
    "\n",
    "train_ds = image_dataset_from_directory(\n",
    "                        train_path,\n",
    "                        image_size=(32,32),\n",
    "                        batch_size=128\n",
    "                            )\n",
    "\n",
    "test_ds = image_dataset_from_directory(\n",
    "                        test_path,\n",
    "                        image_size=(32,32),\n",
    "                        batch_size=128\n",
    "                            )"
   ]
  },
  {
   "cell_type": "code",
   "execution_count": 8,
   "id": "af9197d3",
   "metadata": {},
   "outputs": [
    {
     "data": {
      "text/plain": [
       "['fake', 'real']"
      ]
     },
     "execution_count": 8,
     "metadata": {},
     "output_type": "execute_result"
    }
   ],
   "source": [
    "train_ds.class_names"
   ]
  },
  {
   "cell_type": "code",
   "execution_count": 9,
   "id": "b4d0628a",
   "metadata": {},
   "outputs": [
    {
     "data": {
      "text/plain": [
       "<_BatchDataset element_spec=(TensorSpec(shape=(None, 32, 32, 3), dtype=tf.float32, name=None), TensorSpec(shape=(None,), dtype=tf.int32, name=None))>"
      ]
     },
     "execution_count": 9,
     "metadata": {},
     "output_type": "execute_result"
    }
   ],
   "source": [
    "train_ds"
   ]
  },
  {
   "cell_type": "code",
   "execution_count": 13,
   "id": "44c85b86",
   "metadata": {},
   "outputs": [
    {
     "name": "stdout",
     "output_type": "stream",
     "text": [
      "tf.Tensor(\n",
      "[0 0 1 1 0 1 1 1 0 0 0 1 0 0 1 1 0 1 1 0 0 1 0 1 0 0 0 0 0 0 0 0 1 0 1 0 0\n",
      " 1 0 1 0 1 0 1 1 0 0 0 1 1 0 0 1 0 0 1 1 1 0 1 0 0 0 1 0 0 0 1 0 1 0 1 0 0\n",
      " 1 0 1 0 0 0 0 1 1 0 0 0 0 1 0 0 0 0 1 1 0 1 0 0 0 0 0 1 1 1 0 1 1 1 0 0 1\n",
      " 1 1 0 1 0 0 0 1 1 1 1 0 0 0 0 1 1], shape=(128,), dtype=int32)\n"
     ]
    }
   ],
   "source": [
    "for x,y in train_ds:\n",
    "    print(y)\n",
    "    break"
   ]
  },
  {
   "cell_type": "code",
   "execution_count": 15,
   "id": "6a9937a6",
   "metadata": {},
   "outputs": [],
   "source": [
    "x_train = tf.concat([x for x, y in train_ds], axis=0)\n",
    "y_train = tf.concat([y for x, y in train_ds], axis=0)\n",
    "\n",
    "x_test = tf.concat([x for x, y in test_ds], axis=0)\n",
    "y_test = tf.concat([y for x, y in test_ds], axis=0)"
   ]
  },
  {
   "cell_type": "code",
   "execution_count": 17,
   "id": "a2446d34",
   "metadata": {},
   "outputs": [
    {
     "data": {
      "text/plain": [
       "<tf.Tensor: shape=(2500,), dtype=int32, numpy=array([1, 0, 1, ..., 1, 1, 1], dtype=int32)>"
      ]
     },
     "execution_count": 17,
     "metadata": {},
     "output_type": "execute_result"
    }
   ],
   "source": [
    "y_train"
   ]
  },
  {
   "cell_type": "code",
   "execution_count": null,
   "id": "e831dfd6",
   "metadata": {},
   "outputs": [],
   "source": [
    "np.savez(\"processed_data/train\", image=x_train, label=y_train) # train.npz\n",
    "np.savez(\"processed_data/test\", image=x_test, label=y_test) # test.npz"
   ]
  },
  {
   "cell_type": "code",
   "execution_count": 19,
   "id": "9b3b03dd",
   "metadata": {},
   "outputs": [
    {
     "name": "stdout",
     "output_type": "stream",
     "text": [
      "test.npz  train.npz\r\n"
     ]
    }
   ],
   "source": [
    "!aws s3 cp processed_data s3://bucket_name/prefix --recursive"
   ]
  },
  {
   "cell_type": "markdown",
   "id": "f5e8bc8d",
   "metadata": {},
   "source": [
    "training_job -> code -> train.py model -> requirements.txt gereken kütüphaneleri"
   ]
  },
  {
   "cell_type": "code",
   "execution_count": null,
   "id": "1d169c05",
   "metadata": {},
   "outputs": [],
   "source": [
    "%cd code"
   ]
  },
  {
   "cell_type": "code",
   "execution_count": null,
   "id": "54a1bd6c",
   "metadata": {},
   "outputs": [],
   "source": [
    "%%writefile model.py\n",
    "\n",
    "import tensorflow as tf\n",
    "import tensorflow_addons as tfa\n",
    "from tensorflow.keras.layers import (\n",
    "    Dense,\n",
    "    Dropout,\n",
    "    LayerNormalization,\n",
    ")\n",
    "from tensorflow.keras.layers.experimental.preprocessing import Rescaling\n",
    "\n",
    "\n",
    "class MultiHeadSelfAttention(tf.keras.layers.Layer):\n",
    "    def __init__(self, embed_dim, num_heads=8):\n",
    "        super(MultiHeadSelfAttention, self).__init__()\n",
    "        self.embed_dim = embed_dim\n",
    "        self.num_heads = num_heads\n",
    "        if embed_dim % num_heads != 0:\n",
    "            raise ValueError(\n",
    "                f\"embedding dimension = {embed_dim} should be divisible by number of heads = {num_heads}\"\n",
    "            )\n",
    "        self.projection_dim = embed_dim // num_heads\n",
    "        self.query_dense = Dense(embed_dim)\n",
    "        self.key_dense = Dense(embed_dim)\n",
    "        self.value_dense = Dense(embed_dim)\n",
    "        self.combine_heads = Dense(embed_dim)\n",
    "\n",
    "    def attention(self, query, key, value):\n",
    "        score = tf.matmul(query, key, transpose_b=True)\n",
    "        dim_key = tf.cast(tf.shape(key)[-1], tf.float32)\n",
    "        scaled_score = score / tf.math.sqrt(dim_key)\n",
    "        weights = tf.nn.softmax(scaled_score, axis=-1)\n",
    "        output = tf.matmul(weights, value)\n",
    "        return output, weights\n",
    "\n",
    "    def separate_heads(self, x, batch_size):\n",
    "        x = tf.reshape(\n",
    "            x, (batch_size, -1, self.num_heads, self.projection_dim)\n",
    "        )\n",
    "        return tf.transpose(x, perm=[0, 2, 1, 3])\n",
    "\n",
    "    def call(self, inputs):\n",
    "        batch_size = tf.shape(inputs)[0]\n",
    "        query = self.query_dense(inputs)\n",
    "        key = self.key_dense(inputs)\n",
    "        value = self.value_dense(inputs)\n",
    "        query = self.separate_heads(query, batch_size)\n",
    "        key = self.separate_heads(key, batch_size)\n",
    "        value = self.separate_heads(value, batch_size)\n",
    "\n",
    "        attention, weights = self.attention(query, key, value)\n",
    "        attention = tf.transpose(attention, perm=[0, 2, 1, 3])\n",
    "        concat_attention = tf.reshape(\n",
    "            attention, (batch_size, -1, self.embed_dim)\n",
    "        )\n",
    "        output = self.combine_heads(concat_attention)\n",
    "        return output\n",
    "\n",
    "\n",
    "class TransformerBlock(tf.keras.layers.Layer):\n",
    "    def __init__(self, embed_dim, num_heads, mlp_dim, dropout=0.1):\n",
    "        super(TransformerBlock, self).__init__()\n",
    "        self.att = MultiHeadSelfAttention(embed_dim, num_heads)\n",
    "        self.mlp = tf.keras.Sequential(\n",
    "            [\n",
    "                Dense(mlp_dim, activation=tfa.activations.gelu),\n",
    "                Dropout(dropout),\n",
    "                Dense(embed_dim),\n",
    "                Dropout(dropout),\n",
    "            ]\n",
    "        )\n",
    "        self.layernorm1 = LayerNormalization(epsilon=1e-6)\n",
    "        self.layernorm2 = LayerNormalization(epsilon=1e-6)\n",
    "        self.dropout1 = Dropout(dropout)\n",
    "        self.dropout2 = Dropout(dropout)\n",
    "\n",
    "    def call(self, inputs, training):\n",
    "        inputs_norm = self.layernorm1(inputs)\n",
    "        attn_output = self.att(inputs_norm)\n",
    "        attn_output = self.dropout1(attn_output, training=training)\n",
    "        out1 = attn_output + inputs\n",
    "\n",
    "        out1_norm = self.layernorm2(out1)\n",
    "        mlp_output = self.mlp(out1_norm)\n",
    "        mlp_output = self.dropout2(mlp_output, training=training)\n",
    "        return mlp_output + out1\n",
    "\n",
    "\n",
    "class VisionTransformer(tf.keras.Model):\n",
    "    def __init__(\n",
    "        self,\n",
    "        image_size,\n",
    "        patch_size,\n",
    "        num_layers,\n",
    "        num_classes,\n",
    "        d_model,\n",
    "        num_heads,\n",
    "        mlp_dim,\n",
    "        channels=3,\n",
    "        dropout=0.1,\n",
    "    ):\n",
    "        super(VisionTransformer, self).__init__()\n",
    "        num_patches = (image_size // patch_size) ** 2\n",
    "        self.patch_dim = channels * patch_size ** 2\n",
    "\n",
    "        self.patch_size = patch_size\n",
    "        self.d_model = d_model\n",
    "        self.num_layers = num_layers\n",
    "\n",
    "        self.rescale = Rescaling(1.0 / 255)\n",
    "        self.pos_emb = self.add_weight(\n",
    "            \"pos_emb\", shape=(1, num_patches + 1, d_model)\n",
    "        )\n",
    "        self.class_emb = self.add_weight(\"class_emb\", shape=(1, 1, d_model))\n",
    "        self.patch_proj = Dense(d_model)\n",
    "        self.enc_layers = [\n",
    "            TransformerBlock(d_model, num_heads, mlp_dim, dropout)\n",
    "            for _ in range(num_layers)\n",
    "        ]\n",
    "        self.mlp_head = tf.keras.Sequential(\n",
    "            [\n",
    "                LayerNormalization(epsilon=1e-6),\n",
    "                Dense(mlp_dim, activation=tfa.activations.gelu),\n",
    "                Dropout(dropout),\n",
    "                Dense(num_classes),\n",
    "            ]\n",
    "        )\n",
    "\n",
    "    def extract_patches(self, images):\n",
    "        batch_size = tf.shape(images)[0]\n",
    "        patches = tf.image.extract_patches(\n",
    "            images=images,\n",
    "            sizes=[1, self.patch_size, self.patch_size, 1],\n",
    "            strides=[1, self.patch_size, self.patch_size, 1],\n",
    "            rates=[1, 1, 1, 1],\n",
    "            padding=\"VALID\",\n",
    "        )\n",
    "        patches = tf.reshape(patches, [batch_size, -1, self.patch_dim])\n",
    "        return patches\n",
    "\n",
    "    def call(self, x, training):\n",
    "        batch_size = tf.shape(x)[0]\n",
    "        x = self.rescale(x)\n",
    "        patches = self.extract_patches(x)\n",
    "        x = self.patch_proj(patches)\n",
    "\n",
    "        class_emb = tf.broadcast_to(\n",
    "            self.class_emb, [batch_size, 1, self.d_model]\n",
    "        )\n",
    "        x = tf.concat([class_emb, x], axis=1)\n",
    "        x = x + self.pos_emb\n",
    "\n",
    "        for layer in self.enc_layers:\n",
    "            x = layer(x, training)\n",
    "\n",
    "        # First (class token) is used for classification\n",
    "        x = self.mlp_head(x[:, 0])\n",
    "        return x"
   ]
  },
  {
   "cell_type": "code",
   "execution_count": null,
   "id": "db695003",
   "metadata": {},
   "outputs": [],
   "source": [
    "%%writefile requirements.txt\n",
    "\n",
    "tensorflow_addons"
   ]
  },
  {
   "cell_type": "code",
   "execution_count": null,
   "id": "98ffd8d6",
   "metadata": {},
   "outputs": [],
   "source": [
    "%%writefile code/train.py\n",
    "\n",
    "import os\n",
    "import numpy as np\n",
    "from argparse import ArgumentParser\n",
    "\n",
    "import tensorflow as tf\n",
    "import tensorflow_addons as tfa\n",
    "\n",
    "from model import VisionTransformer\n",
    "\n",
    "if __name__ == \"__main__\":\n",
    "    parser = ArgumentParser()\n",
    "\n",
    "    parser.add_argument(\"--model-dir\", type=str, default=os.environ[\"SM_MODEL_DIR\"])\n",
    "    parser.add_argument(\"--train\", type=str, default=os.environ[\"SM_CHANNEL_TRAIN\"])\n",
    "    parser.add_argument(\n",
    "        \"--validation\", type=str, default=os.environ[\"SM_CHANNEL_VALIDATION\"]\n",
    "    )\n",
    "    parser.add_argument(\"--image-size\", type=int, default=32)\n",
    "    parser.add_argument(\"--patch-size\", type=int, default=4)\n",
    "    parser.add_argument(\"--num-layers\", type=int, default=4)\n",
    "    parser.add_argument(\"--num-classes\", type=int, default=2)\n",
    "    parser.add_argument(\"--d-model\", type=int, default=64)\n",
    "    parser.add_argument(\"--num-heads\", type=int, default=4)\n",
    "    parser.add_argument(\"--mlp-dim\", type=int, default=128)\n",
    "    parser.add_argument(\"--learning_rate\", type=float, default=3e-4)\n",
    "    parser.add_argument(\"--weight-decay\", type=float, default=1e-4)\n",
    "    parser.add_argument(\"--batch-size\", type=int, default=256)\n",
    "    parser.add_argument(\"--epochs\", type=int, default=30)\n",
    "\n",
    "    args, _ = parser.parse_known_args()\n",
    "\n",
    "    x_train = np.load(os.path.join(args.train, \"train.npz\"))[\"image\"]\n",
    "    y_train = np.load(os.path.join(args.train, \"train.npz\"))[\"label\"]\n",
    "    x_test = np.load(os.path.join(args.validation, \"test.npz\"))[\"image\"]\n",
    "    y_test = np.load(os.path.join(args.validation, \"test.npz\"))[\"label\"]\n",
    "\n",
    "    model = VisionTransformer(\n",
    "        image_size=args.image_size,\n",
    "        patch_size=args.patch_size,\n",
    "        num_layers=args.num_layers,\n",
    "        num_classes=args.num_classes,\n",
    "        d_model=args.d_model,\n",
    "        num_heads=args.num_heads,\n",
    "        mlp_dim=args.mlp_dim,\n",
    "        channels=3,\n",
    "        dropout=0.1,\n",
    "    )\n",
    "    model.compile(\n",
    "        loss=tf.keras.losses.SparseCategoricalCrossentropy(from_logits=True),\n",
    "        optimizer=tfa.optimizers.AdamW(\n",
    "            learning_rate=args.learning_rate, weight_decay=args.weight_decay\n",
    "        ),\n",
    "        metrics=[\"accuracy\"],\n",
    "    )\n",
    "\n",
    "    model.fit(\n",
    "        x_train,\n",
    "        y_train,\n",
    "        validation_data=(x_test, y_test),\n",
    "        epochs=args.epochs,\n",
    "        verbose=2,\n",
    "    )\n",
    "\n",
    "    version = \"1\"\n",
    "    model.save(os.path.join(args.model_dir, version)) #model.tar.gz"
   ]
  },
  {
   "cell_type": "code",
   "execution_count": 20,
   "id": "dafcbcca",
   "metadata": {},
   "outputs": [],
   "source": [
    "dataset_uri = \"bucket_name\""
   ]
  },
  {
   "cell_type": "code",
   "execution_count": null,
   "id": "29f622f4",
   "metadata": {},
   "outputs": [],
   "source": [
    "from sagemaker.tensorflow import TensorFlow\n",
    "\n",
    "hyperparameters = {\"image_size\": 32,\n",
    "                   \"patch_size\": 4,\n",
    "                   \"num-layers\":4,\n",
    "                   \"d-model\": 64,\n",
    "                   \"num-heads\": 4,\n",
    "                   \"mlp-dim\": 128,\n",
    "                   \"learning-rate\": 3e-4,\n",
    "                   \"weight-decay\": 1e-4,\n",
    "                   \"batch-size\": 256,\n",
    "                   \"epochs\": 20\n",
    "}\n",
    "\n",
    "estimator = TensorFlow(\n",
    "                entry_point=\"train.py\",\n",
    "                source_dir=\"code\",\n",
    "                role=role,\n",
    "                framework_version=\"2.9\",\n",
    "                py_version=\"py39\",\n",
    "                instance_type=\"ml.p3.2xlarge\",\n",
    "                instance_count=1,\n",
    "                hyperparameters=hyperparameters\n",
    ")\n",
    "\n",
    "inputs = {\"train\": dataset_uri, \"validation\": dataset_uri}\n",
    "estimator.fit(inputs)"
   ]
  },
  {
   "cell_type": "code",
   "execution_count": null,
   "id": "c021cef4",
   "metadata": {},
   "outputs": [],
   "source": [
    "model.tar.gz"
   ]
  },
  {
   "cell_type": "code",
   "execution_count": null,
   "id": "3ad2c5f8",
   "metadata": {},
   "outputs": [],
   "source": []
  },
  {
   "cell_type": "code",
   "execution_count": null,
   "id": "7553c2be",
   "metadata": {},
   "outputs": [],
   "source": []
  },
  {
   "cell_type": "code",
   "execution_count": null,
   "id": "e2f1ae15",
   "metadata": {},
   "outputs": [],
   "source": []
  },
  {
   "cell_type": "code",
   "execution_count": null,
   "id": "1f3f80c5",
   "metadata": {},
   "outputs": [],
   "source": []
  },
  {
   "cell_type": "code",
   "execution_count": null,
   "id": "f8a5bf44",
   "metadata": {},
   "outputs": [],
   "source": []
  },
  {
   "cell_type": "code",
   "execution_count": null,
   "id": "0dc29006",
   "metadata": {},
   "outputs": [],
   "source": []
  },
  {
   "cell_type": "code",
   "execution_count": null,
   "id": "43327252",
   "metadata": {},
   "outputs": [],
   "source": []
  }
 ],
 "metadata": {
  "kernelspec": {
   "display_name": "sagemaker",
   "language": "python",
   "name": "sagemaker"
  },
  "language_info": {
   "codemirror_mode": {
    "name": "ipython",
    "version": 3
   },
   "file_extension": ".py",
   "mimetype": "text/x-python",
   "name": "python",
   "nbconvert_exporter": "python",
   "pygments_lexer": "ipython3",
   "version": "3.8.16"
  }
 },
 "nbformat": 4,
 "nbformat_minor": 5
}
